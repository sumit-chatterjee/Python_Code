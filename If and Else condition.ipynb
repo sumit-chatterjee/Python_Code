{
 "cells": [
  {
   "cell_type": "markdown",
   "metadata": {},
   "source": [
    "### 1st Program"
   ]
  },
  {
   "cell_type": "code",
   "execution_count": null,
   "metadata": {},
   "outputs": [],
   "source": [
    "## Write a C program to accept two integers and check whether they are equal or not."
   ]
  },
  {
   "cell_type": "code",
   "execution_count": null,
   "metadata": {},
   "outputs": [],
   "source": [
    "num1 = int(input(\"Enter First Integer Number\"))\n",
    "num2 = int(input(\"Enter Second Integer Number\"))\n",
    "\n",
    "if num1 == num2 : print(\"Equal\")\n",
    "\n",
    "else: print(\"Not Equal\")\n",
    "    \n",
    "    \n",
    "    \n"
   ]
  },
  {
   "cell_type": "code",
   "execution_count": null,
   "metadata": {},
   "outputs": [],
   "source": [
    "## Same Problem solved but in this case we save our time to execute.\n",
    "\n",
    "num1 , num2= input (\"Enter two interger number and seperate with space \").split ()\n",
    "\n",
    "if num1 == num2 : print(\"Equal\")\n",
    "\n",
    "else: print(\"Not Equal\")\n",
    "    \n",
    "    \n",
    "## https://www.upgrad.com/blog/multiple-inputs-from-user-in-python/    \n",
    "    \n"
   ]
  },
  {
   "cell_type": "code",
   "execution_count": null,
   "metadata": {},
   "outputs": [],
   "source": [
    "###############################################################################################################################"
   ]
  },
  {
   "cell_type": "markdown",
   "metadata": {},
   "source": [
    "### 2nd Program"
   ]
  },
  {
   "cell_type": "code",
   "execution_count": null,
   "metadata": {},
   "outputs": [],
   "source": [
    "## Write a C program to check whether a given number is even or odd."
   ]
  },
  {
   "cell_type": "code",
   "execution_count": null,
   "metadata": {},
   "outputs": [],
   "source": [
    "## 1st Approach\n",
    "\n",
    "num1 = int(input(\"Enter a Number : \"))\n",
    "\n",
    "if num1%2==0: print(\"Even\")\n",
    "else: print(\"odd\")    \n",
    "    \n",
    "    "
   ]
  },
  {
   "cell_type": "code",
   "execution_count": null,
   "metadata": {},
   "outputs": [],
   "source": [
    "## 2nd Approach \n",
    "\n",
    "num1 = input(\"Enter any Number :\")\n",
    "num = num1[-1]\n",
    "num = int(num)\n",
    "\n",
    "if num in [0,2,4,6,8] : print(\"Even\")\n",
    "else: print(\"Odd\")\n",
    "    \n"
   ]
  },
  {
   "cell_type": "code",
   "execution_count": null,
   "metadata": {},
   "outputs": [],
   "source": [
    "###############################################################################################################################"
   ]
  },
  {
   "cell_type": "markdown",
   "metadata": {},
   "source": [
    "### 3rd Program"
   ]
  },
  {
   "cell_type": "code",
   "execution_count": null,
   "metadata": {},
   "outputs": [],
   "source": [
    "## Write a C program to check whether a given number is positive or negative. "
   ]
  },
  {
   "cell_type": "code",
   "execution_count": null,
   "metadata": {},
   "outputs": [],
   "source": [
    "num1 = int(input(\"Enter any Number :\"))\n",
    "\n",
    "if num1==0: print(\"Zero is neither positive or negative \")\n",
    "elif num1>0: return \"Positive\"\n",
    "else: return \"Negative\"\n",
    "    \n"
   ]
  },
  {
   "cell_type": "markdown",
   "metadata": {},
   "source": [
    "### 4th Program"
   ]
  },
  {
   "cell_type": "code",
   "execution_count": null,
   "metadata": {},
   "outputs": [],
   "source": [
    "## Write a C program to find whether a given year is a leap year or not."
   ]
  },
  {
   "cell_type": "code",
   "execution_count": null,
   "metadata": {},
   "outputs": [],
   "source": [
    "num1 = int(input(\"Enter any Year :\"))\n",
    "print(\"Leap Year\") if (num1%4==0 and num1%100!=0) or (num1%400==0) else print(\"Not a Leap Year\")"
   ]
  },
  {
   "cell_type": "markdown",
   "metadata": {},
   "source": [
    "### 5th Program"
   ]
  },
  {
   "cell_type": "code",
   "execution_count": null,
   "metadata": {},
   "outputs": [],
   "source": [
    "## Write a C program to read the age of a candidate and determine whether it is eligible for casting his/her own vote. "
   ]
  },
  {
   "cell_type": "code",
   "execution_count": null,
   "metadata": {},
   "outputs": [],
   "source": [
    "age = int(input(\"Enter your age : \"))\n",
    "\n",
    "if age >=18 : print(\"Eligible ..\")\n",
    "else: print(\"Not Eligible ..\")    "
   ]
  },
  {
   "cell_type": "markdown",
   "metadata": {},
   "source": [
    "### 6th Program"
   ]
  },
  {
   "cell_type": "code",
   "execution_count": null,
   "metadata": {},
   "outputs": [],
   "source": [
    "## Write a C program to read the value of an integer m and display the value of n is 1 when m is larger than 0, 0 when m is 0 and -1 when m is less than 0.\n",
    "\n",
    "m = int(input(\"Enter the value of m  : \"))\n",
    "if m >0 : print(\"n = 1 \")\n",
    "elif m == 0 : print(\"n = 0\")\n",
    "else:print(\"n = -1\" )    "
   ]
  },
  {
   "cell_type": "markdown",
   "metadata": {},
   "source": [
    "### 7th Program"
   ]
  },
  {
   "cell_type": "code",
   "execution_count": null,
   "metadata": {},
   "outputs": [],
   "source": [
    "## Write a C program to accept the height of a person in centimeter and categorize the person according to their height.\n",
    "\n",
    "user_height = []\n",
    "\n",
    "while True :\n",
    "    user = input(\"Want to add any user Height ? Y/N \")\n",
    "    if user == \"Y\" : \n",
    "       height = int(input(\"Enter your Height in CM  : \")) \n",
    "       user_height.append(height)\n",
    "    else:\n",
    "        break\n",
    "        \n",
    "print(user_height)  \n",
    "\n",
    "for height in user_height:\n",
    "    user_height[0]==user_height[1]\n",
    "    \n",
    "\n",
    "\n"
   ]
  },
  {
   "cell_type": "markdown",
   "metadata": {},
   "source": [
    "### 8th Program"
   ]
  },
  {
   "cell_type": "code",
   "execution_count": null,
   "metadata": {},
   "outputs": [],
   "source": [
    "## Write a C program to find the largest of three numbers."
   ]
  },
  {
   "cell_type": "code",
   "execution_count": null,
   "metadata": {},
   "outputs": [],
   "source": [
    "a , b , c = input(\"Enter three number seperate with space  : \").split()\n",
    "int(a)\n",
    "int(b)\n",
    "int(c)\n",
    "if a > b and a >c: print(a , \"is Greater !!\" )\n",
    "elif (b > a) and (b > c) : print(b , \"is Greater !!\")\n",
    "else : print(c , \"is Greater\")     "
   ]
  },
  {
   "cell_type": "markdown",
   "metadata": {},
   "source": [
    "### 9th Program"
   ]
  },
  {
   "cell_type": "code",
   "execution_count": null,
   "metadata": {},
   "outputs": [],
   "source": [
    "## Write a C program to find the eligibility of admission for a professional course based on the following criteria:\n",
    "\n",
    "## Eligibility Criteria : Marks in Maths >=65 and Marks in Phy >=55 and Marks in Chem>=50 and Total in all three \n",
    "## subject >=190 or Total in Maths and Physics >=140\n",
    "\n",
    "\n",
    "maths ,phy , chem = input(\"Enter the marks of Maths , Phy and Che respectively  : \").split()\n",
    "maths=int(maths)\n",
    "phy=int(phy)\n",
    "chem=int(chem)\n",
    "subject = maths + phy + chem\n",
    "\n",
    "if (maths >=65 and phy >=55 and chem>=50 and subject >=190 ) or (maths+phy>=140):print(\"Eligible..\")\n",
    "else:print(\"Not Eligible..\") "
   ]
  },
  {
   "cell_type": "markdown",
   "metadata": {},
   "source": [
    "### 10th Program"
   ]
  },
  {
   "cell_type": "code",
   "execution_count": null,
   "metadata": {},
   "outputs": [],
   "source": [
    "## Write a C program to read roll no, name and marks of three subjects and calculate the total, percentage and division.\n",
    "\"\"\"Test Data :\n",
    "Input the Roll Number of the student :784\n",
    "Input the Name of the Student :James\n",
    "Input the marks of Physics, Chemistry and Computer Application : 70 80 90\n",
    "Expected Output :\n",
    "Roll No : 784\n",
    "Name of Student : James\n",
    "Marks in Physics : 70\n",
    "Marks in Chemistry : 80\n",
    "Marks in Computer Application : 90\n",
    "Total Marks = 240\n",
    "Percentage = 80.00\n",
    "Division = First\n",
    "\"\"\"\n",
    "\n",
    "\n",
    "Roll_Number = int(input(\"Input the Roll Number of the student : \"))\n",
    "Student_Name = input(\"Input the Name of the Student : \")\n",
    "Physics, Chemistry, Computer_Application = input(\"Input the marks of Physics, Chemistry and Computer Application : \").split()\n",
    "Physics = int(Physics)\n",
    "Chemistry = int(Chemistry)\n",
    "Computer_Application = int(Computer_Application)\n",
    "\n",
    "Total_Marks = Physics + Chemistry + Computer_Application\n",
    "Percentage = (Total_Marks/300)*100\n",
    "\n",
    "print(\"\\n\")\n",
    "print(\"Roll No :\", Roll_Number)\n",
    "print(\"Name of Student :\" , Student_Name)\n",
    "print(\"Marks in Physics :\" , Physics)\n",
    "print(\"Marks in Chemistry : \" , Chemistry)\n",
    "print(\"Marks in Computer Application :\" ,Computer_Application )\n",
    "\n",
    "print(\"Total Marks\",Total_Marks )\n",
    "print(\"Percentage : \" , Percentage )\n",
    "\n",
    "if Percentage >= 60:print(\"First Division..\")\n",
    "elif Percentage <60 and Percentage >=40: print(\"Second Division\")\n",
    "else:print(\"Fail\")\n"
   ]
  },
  {
   "cell_type": "markdown",
   "metadata": {},
   "source": [
    "### 11th Program"
   ]
  },
  {
   "cell_type": "code",
   "execution_count": null,
   "metadata": {},
   "outputs": [],
   "source": [
    "## Write a C program to read temperature in centigrade and display a suitable message according to temperature state below :\n",
    "\n",
    "\"\"\"\n",
    "Temp < 0 then Freezing weather\n",
    "Temp 0-10 then Very Cold weather\n",
    "Temp 10-20 then Cold weather\n",
    "Temp 20-30 then Normal in Temp\n",
    "Temp 30-40 then Its Hot\n",
    "Temp >=40 then Its Very Hot\n",
    "Test Data :\n",
    "42\n",
    "Expected Output :\n",
    "Its very hot.\n",
    "\n",
    "\"\"\""
   ]
  },
  {
   "cell_type": "code",
   "execution_count": 3,
   "metadata": {},
   "outputs": [
    {
     "name": "stdout",
     "output_type": "stream",
     "text": [
      "Temperature : 67\n",
      "Its very Hot\n"
     ]
    }
   ],
   "source": [
    "Temp = int(input(\"Temperature : \"))\n",
    "\n",
    "if Temp < 0 : print(\"Freezing weather ..\")\n",
    "elif 0<Temp<10 : print(\"Very Cold weather..\")\n",
    "elif 10<Temp<20: print(\" Cold weather..\") \n",
    "elif 20<Temp<30: print(\"Normal in Temp\")\n",
    "elif 30<Temp<40: print(\"Its Hot\")\n",
    "else : print(\"Its very Hot\")"
   ]
  },
  {
   "cell_type": "markdown",
   "metadata": {},
   "source": [
    "### 12th Program"
   ]
  },
  {
   "cell_type": "code",
   "execution_count": 7,
   "metadata": {},
   "outputs": [
    {
     "name": "stdout",
     "output_type": "stream",
     "text": [
      "Enter a character : $\n",
      "Its a special character..\n"
     ]
    }
   ],
   "source": [
    "## Write a C program to check whether a character is an alphabet, digit or special character.\n",
    "\n",
    "## Here , only put the list of small letter and few special character\n",
    "\n",
    "chr = input(\"Enter a character : \")\n",
    "if chr in [\"a\" , \"b\",\"c\" , \"d\",\"e\",\"f\",\"g\",\"h\",\"i\",\"j\",\"k\",\"l\",\"m\",\"n\",\"o\",\"p\",\"q\",\"r\",\"s\",\"t\",\"u\",\"v\",\"w\",\"x\",\"y\",\"z\"]:print(\"Its a Alpahabet ..\")\n",
    "elif chr in [\"!\" , '\"' , \"#\" , \"$\" , \"%\" ] : print(\"Its a special character..\")\n",
    "else: print(\"Its a Digit..\")\n",
    "   "
   ]
  },
  {
   "cell_type": "markdown",
   "metadata": {},
   "source": [
    "### 13th Program"
   ]
  },
  {
   "cell_type": "code",
   "execution_count": 8,
   "metadata": {},
   "outputs": [],
   "source": [
    "## Write a C program to check whether an alphabet is a vowel or consonant."
   ]
  },
  {
   "cell_type": "code",
   "execution_count": 9,
   "metadata": {},
   "outputs": [
    {
     "name": "stdout",
     "output_type": "stream",
     "text": [
      "Enter any alphabet  : d\n",
      "Its a consonant\n"
     ]
    }
   ],
   "source": [
    "chr = input(\"Enter any alphabet  : \")\n",
    "if chr in [\"a\", \"e\", \"i\",\"o\", \"u\", \"A\", \"I\",\"O\",\"U\",\"E\"]: print(\"Its a vowel\")\n",
    "else:print(\"Its a consonant\")"
   ]
  },
  {
   "cell_type": "code",
   "execution_count": null,
   "metadata": {},
   "outputs": [],
   "source": []
  }
 ],
 "metadata": {
  "kernelspec": {
   "display_name": "Python 3 (ipykernel)",
   "language": "python",
   "name": "python3"
  },
  "language_info": {
   "codemirror_mode": {
    "name": "ipython",
    "version": 3
   },
   "file_extension": ".py",
   "mimetype": "text/x-python",
   "name": "python",
   "nbconvert_exporter": "python",
   "pygments_lexer": "ipython3",
   "version": "3.8.3"
  }
 },
 "nbformat": 4,
 "nbformat_minor": 4
}
